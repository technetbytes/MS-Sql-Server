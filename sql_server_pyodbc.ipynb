{
 "cells": [
  {
   "cell_type": "markdown",
   "metadata": {},
   "source": [
    "## Microsoft SQL Server Connectivity Using  pyodbc"
   ]
  },
  {
   "cell_type": "code",
   "execution_count": 23,
   "metadata": {},
   "outputs": [],
   "source": [
    "import pyodbc"
   ]
  },
  {
   "cell_type": "markdown",
   "metadata": {},
   "source": [
    "### Connection Detail "
   ]
  },
  {
   "cell_type": "code",
   "execution_count": 24,
   "metadata": {},
   "outputs": [],
   "source": [
    "details = {    \n",
    " 'server' : '*.*.*.*',\n",
    " 'database' : 'database name',\n",
    " 'username' : 'sa',\n",
    " 'password' : '*.*.*.*'\n",
    " }\n",
    "connect_string = 'Driver={{ODBC Driver 17 for SQL Server}};Server={server};Database={database};UID={username};PWD={password}'.format(**details)"
   ]
  },
  {
   "cell_type": "markdown",
   "metadata": {},
   "source": [
    "### Test Script"
   ]
  },
  {
   "cell_type": "code",
   "execution_count": 25,
   "metadata": {},
   "outputs": [
    {
     "name": "stdout",
     "output_type": "stream",
     "text": [
      "685A5DE4-21A3-4B98-8730-03CF50122087 6FE84EA3-5FFF-45C2-A4AA-180219F50B8A\n",
      "732D7E3C-9503-4ADC-BEFA-3A21AC1A4882 180E2FDF-33F2-477D-B162-6C5007991F34\n",
      "08fb762d-1eb4-4315-a251-4c9db7828706 fdf46730-8d94-4f03-969e-6d034b405896\n"
     ]
    }
   ],
   "source": [
    "connection = pyodbc.connect(connect_string)\n",
    "cursor = connection.cursor()\n",
    "cursor.execute('select * from tProjectKeys;')\n",
    "rows = cursor.fetchall()\n",
    "for row in rows:\n",
    "\tprint(row.WebKey + \" \" + row.MobileKey)"
   ]
  }
 ],
 "metadata": {
  "kernelspec": {
   "display_name": "Python 3",
   "language": "python",
   "name": "python3"
  },
  "language_info": {
   "codemirror_mode": {
    "name": "ipython",
    "version": 3
   },
   "file_extension": ".py",
   "mimetype": "text/x-python",
   "name": "python",
   "nbconvert_exporter": "python",
   "pygments_lexer": "ipython3",
   "version": "3.6.4"
  }
 },
 "nbformat": 4,
 "nbformat_minor": 2
}
